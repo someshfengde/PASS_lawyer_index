{
 "cells": [
  {
   "cell_type": "code",
   "execution_count": 22,
   "metadata": {},
   "outputs": [],
   "source": [
    "import pandas as pd \n",
    "import numpy as np \n",
    "from pathlib import Path\n",
    "from glob import glob\n",
    "from llama_index import GPTVectorStoreIndex, SimpleDirectoryReader, download_loader\n",
    "import os \n",
    "loader = download_loader(\"SimpleDirectoryReader\")\n",
    "\n",
    "\n",
    "dataset_a1 = \"dataset/IN-Ext/summary/full/A1\"\n",
    "dataset_a2 = \"dataset/IN-Ext/summary/full/A2\"\n",
    "\n",
    "\n",
    "dataset_a1_files = glob(f\"{dataset_a1}/*.txt\")\n",
    "dataset_a2_files = glob(f\"{dataset_a2}/*.txt\")\n",
    "\n",
    "comb_data = dataset_a1_files + dataset_a2_files\n",
    "\n",
    "documents = SimpleDirectoryReader(input_files=comb_data).load_data()\n"
   ]
  },
  {
   "cell_type": "code",
   "execution_count": 25,
   "metadata": {},
   "outputs": [],
   "source": [
    "index = GPTVectorStoreIndex.from_documents(documents=documents, openai_api_key=os.environ[\"OPENAI_API_KEY\"])\n",
    "query_engine = index.as_query_engine()\n",
    "\n"
   ]
  },
  {
   "cell_type": "code",
   "execution_count": 13,
   "metadata": {},
   "outputs": [
    {
     "name": "stdout",
     "output_type": "stream",
     "text": [
      "\n",
      "The law case is Lalit Submits v. Respondent No. 3, in which the appellant (Lalit Submits) is seeking to assert a right over a portion of the acquired land in a situation where the scheme in question has attained finality following as a result of the appellant's inaction. The court is considering the principles of legitimate expectation and the legality of the action in directing retrospective withdrawal of the benefit by a letter of the government. The court is also considering the applicability of Article 166 of the Constitution, which deals with the conduct of government business, and Rule 21 of the Bombay Rules, which provides for the procedure to be followed by the Town Planning Officer. Finally, the court is considering Section 67 of the Gujarat Town Planning and Urban Development Act, 1976, which provides that all lands required by the appropriate authority shall, unless it is otherwise determined in such scheme, vest absolutely in the appropriate authority free from all encumbrances with effect from the date on which the preliminary scheme comes into force.\n"
     ]
    }
   ],
   "source": [
    "response = query_engine.query(\"what is the law case?\")\n",
    "print(response)"
   ]
  },
  {
   "cell_type": "code",
   "execution_count": 11,
   "metadata": {},
   "outputs": [],
   "source": []
  },
  {
   "cell_type": "code",
   "execution_count": null,
   "metadata": {},
   "outputs": [],
   "source": []
  }
 ],
 "metadata": {
  "kernelspec": {
   "display_name": "Python 3",
   "language": "python",
   "name": "python3"
  },
  "language_info": {
   "codemirror_mode": {
    "name": "ipython",
    "version": 3
   },
   "file_extension": ".py",
   "mimetype": "text/x-python",
   "name": "python",
   "nbconvert_exporter": "python",
   "pygments_lexer": "ipython3",
   "version": "3.9.6"
  },
  "orig_nbformat": 4
 },
 "nbformat": 4,
 "nbformat_minor": 2
}
