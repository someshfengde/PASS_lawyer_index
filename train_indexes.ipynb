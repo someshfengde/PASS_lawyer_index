{
 "cells": [
  {
   "cell_type": "code",
   "execution_count": 10,
   "metadata": {},
   "outputs": [
    {
     "name": "stdout",
     "output_type": "stream",
     "text": [
      "\n",
      "The law case is that an appeal shall lie from a judgment or order passed by the one judge of the high court in exercise of original jurisdiction under Article 226 of the Constitution of India, to a division bench comprising of two judges of the same high court. However, no such appeal shall lie against an interlocutory order or against an order passed in exercise of supervisory jurisdiction under Article 227 of the Constitution of India.\n"
     ]
    }
   ],
   "source": [
    "# %%\n",
    "import pandas as pd \n",
    "import numpy as np \n",
    "from pathlib import Path\n",
    "from glob import glob\n",
    "from llama_index import GPTVectorStoreIndex, SimpleDirectoryReader, download_loader\n",
    "import os \n",
    "from dotenv import load_dotenv\n",
    "load_dotenv('.env')\n",
    "\n",
    "# downloading the loader\n",
    "\n",
    "loader = download_loader(\"SimpleDirectoryReader\")\n",
    "\n",
    "# the dataset files\n",
    "dataset_a1 = \"dataset/summary/A1\"\n",
    "dataset_a2 = \"dataset/summary/A2\"\n",
    "\n",
    "# loading the files \n",
    "dataset_a1_files = glob(f\"{dataset_a1}/*.txt\")\n",
    "dataset_a2_files = glob(f\"{dataset_a2}/*.txt\")\n",
    "\n",
    "# combining the data\n",
    "comb_data = dataset_a1_files + dataset_a2_files\n",
    "\n",
    "# creating the documents\n",
    "documents = SimpleDirectoryReader(input_files=comb_data).load_data()\n",
    "# creating indexing from documents\n",
    "index = GPTVectorStoreIndex.from_documents(documents=documents, openai_api_key=os.environ[\"OPENAI_API_KEY\"])\n",
    "\n",
    "# creating the query engine\n",
    "query_engine = index.as_query_engine()\n",
    "\n",
    "\n",
    "# getting response for query \n",
    "\n",
    "response = query_engine.query(\"what is the law case?\")\n",
    "print(response)\n",
    "\n",
    "def get_response(query):\n",
    "    # combining the data\n",
    "    comb_data = dataset_a1_files + dataset_a2_files\n",
    "\n",
    "    # creating the documents\n",
    "    documents = SimpleDirectoryReader(input_files=comb_data).load_data()\n",
    "    # creating indexing from documents\n",
    "    index = GPTVectorStoreIndex.from_documents(documents=documents, openai_api_key=os.environ[\"OPENAI_API_KEY\"])\n",
    "\n",
    "    # creating the query engine\n",
    "    query_engine = index.as_query_engine()\n",
    "    response = query_engine.query(query)\n",
    "    return response\n",
    "\n",
    "\n",
    "# %%\n",
    "\n",
    "\n",
    "\n"
   ]
  },
  {
   "cell_type": "code",
   "execution_count": 25,
   "metadata": {},
   "outputs": [],
   "source": [
    "index = GPTVectorStoreIndex.from_documents(documents=documents, openai_api_key=os.environ[\"OPENAI_API_KEY\"])\n",
    "query_engine = index.as_query_engine()\n",
    "\n"
   ]
  },
  {
   "cell_type": "code",
   "execution_count": 27,
   "metadata": {},
   "outputs": [
    {
     "name": "stdout",
     "output_type": "stream",
     "text": [
      "The case of Topandas v. Firm of G. Appalaswamy (1963 Indlaw SC 379) is related to mortgage. In this case, the Supreme Court of India considered the question of whether a sitting tenant who took property by a possessory or usufructuary mortgage in his favour was liable to deliver physical possession upon redemption to the mortgagor. The Gujarat High Court decision in Patel Atmaram Nathudas v. Babubhai Keshavlal (1974 Indlaw Guj 88) is also related to mortgage. In this case, the court held that it would be unreasonable to attribute to a tenant the intention to surrender the tenancy and to invoke the sophisticated doctrine of implied surrender.\n"
     ]
    }
   ],
   "source": [
    "response = query_engine.query(\"\"\"\n",
    "show me cases related to mortgage\n",
    "\"\"\")\n",
    "print(response)"
   ]
  }
 ],
 "metadata": {
  "kernelspec": {
   "display_name": "Python 3",
   "language": "python",
   "name": "python3"
  },
  "language_info": {
   "codemirror_mode": {
    "name": "ipython",
    "version": 3
   },
   "file_extension": ".py",
   "mimetype": "text/x-python",
   "name": "python",
   "nbconvert_exporter": "python",
   "pygments_lexer": "ipython3",
   "version": "3.9.6"
  },
  "orig_nbformat": 4
 },
 "nbformat": 4,
 "nbformat_minor": 2
}
